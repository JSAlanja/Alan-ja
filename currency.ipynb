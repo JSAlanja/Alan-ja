{
 "cells": [
  {
   "cell_type": "code",
   "execution_count": 2,
   "id": "8af00165",
   "metadata": {},
   "outputs": [
    {
     "ename": "SyntaxError",
     "evalue": "invalid syntax (1710995985.py, line 4)",
     "output_type": "error",
     "traceback": [
      "  \u001b[36mCell\u001b[39m\u001b[36m \u001b[39m\u001b[32mIn[2]\u001b[39m\u001b[32m, line 4\u001b[39m\n\u001b[31m    \u001b[39m\u001b[31mdefmatch_feature(template_path, test_image, threshold=0.7):\u001b[39m\n                                                              ^\n\u001b[31mSyntaxError\u001b[39m\u001b[31m:\u001b[39m invalid syntax\n"
     ]
    }
   ],
   "source": [
    "\n",
    "\n",
    "\n",
    "\n",
    "import cv2\n",
    "import numpy as np\n",
    "\n",
    "defmatch_feature(template_path, test_image, threshold=0.7):\n",
    "    template = cv2.imread(template_path, 0)\n",
    "    w, h = template.shape[::-1]\n",
    "    res = cv2.matchTemplate(test_image, template, cv2.TM_CCOEFF_NORMED)\n",
    "loc = np.where(res >= threshold)\n",
    "    return len(zip(*loc[::-1])) > 0  # True if match found\n",
    "\n",
    "# Load test note image and convert to grayscale\n",
    "test_note = cv2.imread('test_note.jpg')\n",
    "test_gray = cv2.cvtColor(test_note, cv2.COLOR_BGR2GRAY)\n",
    "\n",
    "# List of feature templates to check\n",
    "features = {\n",
    "    'Watermark': 'feature_watermark.jpg',\n",
    "    'Security Thread': 'feature_thread.jpg',\n",
    "    'Denomination Text': 'feature_denomination.jpg',\n",
    "    'RBI Logo': 'feature_logo.jpg'\n",
    "}\n",
    "\n",
    "# Authentication results\n",
    "print(\"Authenticating currency note...\")\n",
    "for name, path in features.items():\n",
    "    if match_feature(path, test_gray):\n",
    "        print(f\"{name}: PASS\")\n",
    "    else:\n",
    "        print(f\"{name}: FAIL\")\n",
    "\n",
    "# Show result\n",
    "cv2.imshow(\"Test Note\", test_note)\n",
    "cv2.waitKey(0)\n",
    "cv2.de\n"
   ]
  },
  {
   "cell_type": "code",
   "execution_count": null,
   "id": "745a6f9d",
   "metadata": {},
   "outputs": [],
   "source": []
  }
 ],
 "metadata": {
  "kernelspec": {
   "display_name": "Python 3",
   "language": "python",
   "name": "python3"
  },
  "language_info": {
   "codemirror_mode": {
    "name": "ipython",
    "version": 3
   },
   "file_extension": ".py",
   "mimetype": "text/x-python",
   "name": "python",
   "nbconvert_exporter": "python",
   "pygments_lexer": "ipython3",
   "version": "3.13.1"
  }
 },
 "nbformat": 4,
 "nbformat_minor": 5
}
